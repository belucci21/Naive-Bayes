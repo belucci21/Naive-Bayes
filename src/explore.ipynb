{
 "cells": [
  {
   "cell_type": "markdown",
   "metadata": {},
   "source": [
    "# Explore here"
   ]
  },
  {
   "cell_type": "code",
   "execution_count": null,
   "metadata": {},
   "outputs": [
    {
     "data": {
      "text/html": [
       "<div>\n",
       "<style scoped>\n",
       "    .dataframe tbody tr th:only-of-type {\n",
       "        vertical-align: middle;\n",
       "    }\n",
       "\n",
       "    .dataframe tbody tr th {\n",
       "        vertical-align: top;\n",
       "    }\n",
       "\n",
       "    .dataframe thead th {\n",
       "        text-align: right;\n",
       "    }\n",
       "</style>\n",
       "<table border=\"1\" class=\"dataframe\">\n",
       "  <thead>\n",
       "    <tr style=\"text-align: right;\">\n",
       "      <th></th>\n",
       "      <th>review</th>\n",
       "      <th>polarity</th>\n",
       "    </tr>\n",
       "  </thead>\n",
       "  <tbody>\n",
       "    <tr>\n",
       "      <th>0</th>\n",
       "      <td>privacy at least put some option appear offlin...</td>\n",
       "      <td>0</td>\n",
       "    </tr>\n",
       "    <tr>\n",
       "      <th>1</th>\n",
       "      <td>messenger issues ever since the last update, i...</td>\n",
       "      <td>0</td>\n",
       "    </tr>\n",
       "    <tr>\n",
       "      <th>2</th>\n",
       "      <td>profile any time my wife or anybody has more t...</td>\n",
       "      <td>0</td>\n",
       "    </tr>\n",
       "    <tr>\n",
       "      <th>3</th>\n",
       "      <td>the new features suck for those of us who don'...</td>\n",
       "      <td>0</td>\n",
       "    </tr>\n",
       "    <tr>\n",
       "      <th>4</th>\n",
       "      <td>forced reload on uploading pic on replying com...</td>\n",
       "      <td>0</td>\n",
       "    </tr>\n",
       "  </tbody>\n",
       "</table>\n",
       "</div>"
      ],
      "text/plain": [
       "                                              review  polarity\n",
       "0  privacy at least put some option appear offlin...         0\n",
       "1  messenger issues ever since the last update, i...         0\n",
       "2  profile any time my wife or anybody has more t...         0\n",
       "3  the new features suck for those of us who don'...         0\n",
       "4  forced reload on uploading pic on replying com...         0"
      ]
     },
     "execution_count": 1,
     "metadata": {},
     "output_type": "execute_result"
    }
   ],
   "source": [
    "import pandas as pd\n",
    "\n",
    "# Cargar el conjunto de datos\n",
    "url = \"https://raw.githubusercontent.com/4GeeksAcademy/naive-bayes-project-tutorial/main/playstore_reviews.csv\"\n",
    "df = pd.read_csv(url)\n",
    "\n",
    "# Mostrar las primeras filas \n",
    "df.head()\n",
    "\n",
    "# Limpiar la columna 'review' eliminando espacios y convirtiéndola a minúsculas\n",
    "df[\"review\"] = df[\"review\"].str.strip().str.lower()\n",
    "\n",
    "# Eliminar la columna 'package_name' ya que no es relevante para el análisis de sentimientos\n",
    "df = df.drop(columns=[\"package_name\"])\n",
    "\n",
    "# Mostrar las primeras filas después de la limpieza\n",
    "df.head()\n"
   ]
  },
  {
   "cell_type": "code",
   "execution_count": null,
   "metadata": {},
   "outputs": [
    {
     "name": "stdout",
     "output_type": "stream",
     "text": [
      "Tamaño de X_train_vec: (623, 3090)\n",
      "Tamaño de X_test_vec: (268, 3090)\n"
     ]
    }
   ],
   "source": [
    "from sklearn.model_selection import train_test_split\n",
    "from sklearn.feature_extraction.text import CountVectorizer\n",
    "\n",
    "# Dividir el conjunto de datos en entrenamiento y prueba\n",
    "X = df[\"review\"]\n",
    "y = df[\"polarity\"]\n",
    "\n",
    "X_train, X_test, y_train, y_test = train_test_split(X, y, test_size=0.3, random_state=42)\n",
    "\n",
    "# Inicializar el CountVectorizer\n",
    "vec_model = CountVectorizer(stop_words=\"english\")\n",
    "\n",
    "# Ajustar el transformador en los datos\n",
    "X_train_vec = vec_model.fit_transform(X_train).toarray()\n",
    "\n",
    "# Transformar los datos de prueba \n",
    "X_test_vec = vec_model.transform(X_test).toarray()\n",
    "\n",
    "# Mostrar el tamaño de las matrices generadas\n",
    "print(f\"Tamaño de X_train_vec: {X_train_vec.shape}\")\n",
    "print(f\"Tamaño de X_test_vec: {X_test_vec.shape}\")\n"
   ]
  },
  {
   "cell_type": "code",
   "execution_count": null,
   "metadata": {},
   "outputs": [
    {
     "name": "stdout",
     "output_type": "stream",
     "text": [
      "Precisión del modelo Naive Bayes: 0.8134328358208955\n",
      "Reporte de clasificación:\n",
      "              precision    recall  f1-score   support\n",
      "\n",
      "           0       0.85      0.89      0.87       188\n",
      "           1       0.71      0.64      0.67        80\n",
      "\n",
      "    accuracy                           0.81       268\n",
      "   macro avg       0.78      0.76      0.77       268\n",
      "weighted avg       0.81      0.81      0.81       268\n",
      "\n"
     ]
    }
   ],
   "source": [
    "from sklearn.naive_bayes import MultinomialNB\n",
    "from sklearn.metrics import accuracy_score, classification_report\n",
    "\n",
    "# Entrenar el modelo Naive Bayes\n",
    "def train_naive_bayes(X_train, y_train, X_test, y_test):\n",
    "    # Crear el modelo MultinomialNB\n",
    "    nb_model = MultinomialNB()\n",
    "\n",
    "    # Entrenar el modelo con los datos de entrenamiento\n",
    "    nb_model.fit(X_train, y_train)\n",
    "\n",
    "    # Realizar las predicciones sobre los datos de prueba\n",
    "    y_pred = nb_model.predict(X_test)\n",
    "\n",
    "    # Calcular la precisión y mostrar el reporte de clasificación\n",
    "    accuracy = accuracy_score(y_test, y_pred)\n",
    "    print(f\"Precisión del modelo Naive Bayes: {accuracy}\")\n",
    "    print(\"Reporte de clasificación:\")\n",
    "    print(classification_report(y_test, y_pred))\n",
    "\n",
    "    return nb_model\n",
    "\n",
    "# Entrenar y evaluar el modelo Naive Bayes\n",
    "naive_bayes_model = train_naive_bayes(X_train_vec, y_train, X_test_vec, y_test)\n"
   ]
  },
  {
   "cell_type": "code",
   "execution_count": null,
   "metadata": {},
   "outputs": [
    {
     "name": "stdout",
     "output_type": "stream",
     "text": [
      "Precisión del modelo Random Forest: 0.8134328358208955\n",
      "Reporte de clasificación:\n",
      "              precision    recall  f1-score   support\n",
      "\n",
      "           0       0.89      0.84      0.86       188\n",
      "           1       0.67      0.75      0.71        80\n",
      "\n",
      "    accuracy                           0.81       268\n",
      "   macro avg       0.78      0.80      0.78       268\n",
      "weighted avg       0.82      0.81      0.82       268\n",
      "\n"
     ]
    }
   ],
   "source": [
    "from sklearn.ensemble import RandomForestClassifier\n",
    "from sklearn.metrics import accuracy_score\n",
    "\n",
    "# Optimización del modelo con Random Forest\n",
    "def optimize_with_random_forest(X_train, y_train, X_test, y_test):\n",
    "    rf_model = RandomForestClassifier(n_estimators=100, random_state=42)\n",
    "\n",
    "    # Entrenar el modelo de Random Forest\n",
    "    rf_model.fit(X_train, y_train)\n",
    "\n",
    "    # Realizar las predicciones\n",
    "    y_pred = rf_model.predict(X_test)\n",
    "\n",
    "    # Calcular la precisión y mostrar el reporte de clasificación\n",
    "    accuracy = accuracy_score(y_test, y_pred)\n",
    "    print(f\"Precisión del modelo Random Forest: {accuracy}\")\n",
    "    print(\"Reporte de clasificación:\")\n",
    "    print(classification_report(y_test, y_pred))\n",
    "\n",
    "    return rf_model\n",
    "\n",
    "# Entrenar y evaluar el modelo Random Forest\n",
    "random_forest_model = optimize_with_random_forest(X_train_vec, y_train, X_test_vec, y_test)\n"
   ]
  },
  {
   "cell_type": "code",
   "execution_count": null,
   "metadata": {},
   "outputs": [
    {
     "name": "stdout",
     "output_type": "stream",
     "text": [
      "Modelos guardados correctamente.\n"
     ]
    }
   ],
   "source": [
    "import os\n",
    "import pickle\n",
    "\n",
    "# Función para guardar el modelo\n",
    "def save_model(model, filename):\n",
    "    # Crear el directorio \n",
    "    os.makedirs(os.path.dirname(filename), exist_ok=True)\n",
    "\n",
    "    # Guardar el modelo en el archivo\n",
    "    with open(filename, 'wb') as f:\n",
    "        pickle.dump(model, f)\n",
    "\n",
    "# Guardar el modelo de Naive Bayes\n",
    "save_model(naive_bayes_model, '/workspace/Naive-Bayes/models/naive_bayes_model.pkl')\n",
    "\n",
    "# Guardar el modelo de Random Forest\n",
    "save_model(random_forest_model, '/workspace/Naive-Bayes/models/random_forest_model.pkl')\n",
    "\n",
    "print(\"Modelos guardados correctamente.\")\n",
    "\n"
   ]
  },
  {
   "cell_type": "markdown",
   "metadata": {},
   "source": [
    "# Otras alternativas"
   ]
  },
  {
   "cell_type": "code",
   "execution_count": 10,
   "metadata": {},
   "outputs": [
    {
     "name": "stdout",
     "output_type": "stream",
     "text": [
      "Precisión del modelo SVM: 0.8246268656716418\n"
     ]
    }
   ],
   "source": [
    "from sklearn.svm import LinearSVC\n",
    "from sklearn.feature_extraction.text import TfidfVectorizer\n",
    "from sklearn.metrics import accuracy_score\n",
    "\n",
    "# Vectorización de texto\n",
    "vectorizer = TfidfVectorizer(stop_words='english', max_features=3000)\n",
    "\n",
    "# Transformación de los datos de texto\n",
    "X_train_vec = vectorizer.fit_transform(X_train)\n",
    "X_test_vec = vectorizer.transform(X_test)\n",
    "\n",
    "# Entrenar SVM\n",
    "def train_svm(X_train, y_train, X_test, y_test):\n",
    "    svm_model = LinearSVC(random_state=33)\n",
    "    svm_model.fit(X_train, y_train)\n",
    "\n",
    "    # Evaluación\n",
    "    y_pred = svm_model.predict(X_test)\n",
    "    accuracy = accuracy_score(y_test, y_pred)\n",
    "    print(f\"Precisión del modelo SVM: {accuracy}\")\n",
    "\n",
    "    return svm_model\n",
    "\n",
    "# Entrenar el modelo SVM\n",
    "svm_model = train_svm(X_train_vec, y_train, X_test_vec, y_test)\n",
    "\n"
   ]
  }
 ],
 "metadata": {
  "kernelspec": {
   "display_name": "Python 3",
   "language": "python",
   "name": "python3"
  },
  "language_info": {
   "codemirror_mode": {
    "name": "ipython",
    "version": 3
   },
   "file_extension": ".py",
   "mimetype": "text/x-python",
   "name": "python",
   "nbconvert_exporter": "python",
   "pygments_lexer": "ipython3",
   "version": "3.12.7"
  },
  "orig_nbformat": 4
 },
 "nbformat": 4,
 "nbformat_minor": 2
}
